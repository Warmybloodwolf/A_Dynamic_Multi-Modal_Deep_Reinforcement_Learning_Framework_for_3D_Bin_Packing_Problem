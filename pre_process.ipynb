{
 "cells": [
  {
   "cell_type": "code",
   "execution_count": 4,
   "metadata": {},
   "outputs": [],
   "source": [
    "import pandas as pd\n",
    "\n",
    "# 加载CSV文件\n",
    "data = pd.read_csv('task3.csv')\n",
    "\n",
    "# 为sta_code生成自然增长的数字编号\n",
    "sta_code_mapping = {code: idx for idx, code in enumerate(data['sta_code'].unique())}\n",
    "data['sta_code'] = data['sta_code'].map(sta_code_mapping)\n",
    "\n",
    "# 创建一个新的DataFrame用于存储转换后的数据\n",
    "processed_data = []\n",
    "\n",
    "# 遍历原始数据，确保每个订单内的box_id从0开始自然增长\n",
    "for instance_id, group in data.groupby('sta_code'):\n",
    "    box_id = 0  # 初始化box_id\n",
    "    for index, row in group.iterrows():\n",
    "        length = row['\\u957F(CM)']\n",
    "        width = row['\\u5BBD(CM)']\n",
    "        height = row['\\u9AD8(CM)']\n",
    "        qty = row['qty']\n",
    "\n",
    "        # 根据qty将记录拆分为多条\n",
    "        for _ in range(qty):\n",
    "            processed_data.append([\n",
    "                instance_id, \n",
    "                box_id,  # box_id从0开始计数\n",
    "                length,\n",
    "                width,\n",
    "                height\n",
    "            ])\n",
    "            box_id += 1  # 增加box_id\n",
    "\n",
    "# 将处理后的数据转换为DataFrame\n",
    "processed_df = pd.DataFrame(processed_data, columns=['instance_id', 'box_id', 'length', 'width', 'height'])\n",
    "\n",
    "# 保存为新的CSV文件\n",
    "processed_df.to_csv('processed_data.csv', index=False)\n",
    "\n"
   ]
  }
 ],
 "metadata": {
  "kernelspec": {
   "display_name": "Python 3",
   "language": "python",
   "name": "python3"
  },
  "language_info": {
   "codemirror_mode": {
    "name": "ipython",
    "version": 3
   },
   "file_extension": ".py",
   "mimetype": "text/x-python",
   "name": "python",
   "nbconvert_exporter": "python",
   "pygments_lexer": "ipython3",
   "version": "3.8.20"
  }
 },
 "nbformat": 4,
 "nbformat_minor": 2
}
